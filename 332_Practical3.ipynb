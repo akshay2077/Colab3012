{
  "nbformat": 4,
  "nbformat_minor": 0,
  "metadata": {
    "colab": {
      "provenance": [],
      "authorship_tag": "ABX9TyNlFKk5F1Ofgz7mADV9GKTj",
      "include_colab_link": true
    },
    "kernelspec": {
      "name": "python3",
      "display_name": "Python 3"
    },
    "language_info": {
      "name": "python"
    }
  },
  "cells": [
    {
      "cell_type": "markdown",
      "metadata": {
        "id": "view-in-github",
        "colab_type": "text"
      },
      "source": [
        "<a href=\"https://colab.research.google.com/github/akshay2077/Colab3012/blob/main/332_Practical3.ipynb\" target=\"_parent\"><img src=\"https://colab.research.google.com/assets/colab-badge.svg\" alt=\"Open In Colab\"/></a>"
      ]
    },
    {
      "cell_type": "code",
      "source": [
        "import numpy as np\n",
        "array3 = np.loadtxt('/content/salaryexp.csv',delimiter=',',dtype=str,skiprows=1)\n",
        "print(array3)\n",
        "sal=[]\n",
        "exp=[]\n",
        "for i in array3:\n",
        "  sal.append(int(i[1]))\n",
        "  exp.append(int(i[2]))\n",
        "print(sal)\n",
        "print(exp)\n",
        "\n",
        "#converting list to array\n",
        "arr_sal = np.array(sal)\n",
        "arr_exp = np.array(exp)\n",
        "\n",
        "#displaying array\n",
        "print(\"Array1:\",arr_sal)\n",
        "print(\"Array2:\",arr_exp)\n",
        "\n",
        "#standard deviation salary\n",
        "print(np.std(sal))\n",
        "\n",
        "#standard deviation exp\n",
        "print(np.std(exp))\n",
        "\n",
        "#minimum salary\n",
        "print(np.min(sal))\n",
        "\n",
        "#minimum exp\n",
        "print(np.min(exp))\n",
        "\n",
        "#median salary\n",
        "print(np.median(sal))\n",
        "\n",
        "#median exp\n",
        "print(np.median(exp))\n",
        "\n",
        "#addition of salary and exp\n",
        "array1 = np.array(sal)\n",
        "array2 = np.array(exp)\n",
        "print(array1+array2)\n",
        "\n",
        "#multiplication of salary and exp\n",
        "array1 = np.array(sal)\n",
        "array2 = np.array(exp)\n",
        "print(array1*array2)\n",
        "\n",
        "# horizontal stacking in numpy\n",
        "array1 = np.array(sal)\n",
        "array2 = np.array(exp)\n",
        "output_array = np.hstack((array1,array2))\n",
        "print(output_array)\n",
        "\n",
        "#vertical stacking in numpy\n",
        "array1 = np.array(sal)\n",
        "array2 = np.array(exp)\n",
        "output_array = np.vstack((array1,array2))\n",
        "print(output_array)\n",
        "\n",
        "#copying in numpy\n",
        "array1 = np.array(sal)\n",
        "x = array1.copy()\n",
        "array1[0] = 50000\n",
        "print(x)\n",
        "print(array1)\n",
        "\n",
        "#view in numpy\n",
        "array1 = np.array(exp)\n",
        "x = array1.view()\n",
        "print(x)\n",
        "array1[0] = 13\n",
        "print(array1)\n",
        "\n",
        "# searching in array\n",
        "a = np.array(sal)\n",
        "b = np.array(exp)\n",
        "print(np.where(a==b))\n",
        "\n",
        "#sorting in array\n",
        "a = np.array(sal)\n",
        "print(np.sort(a))"
      ],
      "metadata": {
        "colab": {
          "base_uri": "https://localhost:8080/"
        },
        "id": "VJKP7yhdcUhz",
        "outputId": "fd85ec1a-49e4-4045-a184-6828e2b5fd65"
      },
      "execution_count": null,
      "outputs": [
        {
          "output_type": "stream",
          "name": "stdout",
          "text": [
            "[['Arjun' '26000' '8' 'tcs' 'Male']\n",
            " ['Vijay' '30000' '7' 'wipro' 'Male']\n",
            " ['Rajni' '32000' '10' 'tcs' 'Female']\n",
            " ['Girish' '45000' '9' 'accenture' 'Male']\n",
            " ['Radha' '42000' '12' 'cognizant' 'Female']\n",
            " ['Mayur' '47000' '10' 'Infosys' 'Male']\n",
            " ['Ujjwal' '52000' '11' 'hcl' 'Male']\n",
            " ['Nihar' '48000' '10' 'wipro' 'Male']]\n",
            "[26000, 30000, 32000, 45000, 42000, 47000, 52000, 48000]\n",
            "[8, 7, 10, 9, 12, 10, 11, 10]\n",
            "Array1: [26000 30000 32000 45000 42000 47000 52000 48000]\n",
            "Array2: [ 8  7 10  9 12 10 11 10]\n",
            "8982.62211161084\n",
            "1.4947825928876748\n",
            "26000\n",
            "7\n",
            "43500.0\n",
            "10.0\n",
            "[26008 30007 32010 45009 42012 47010 52011 48010]\n",
            "[208000 210000 320000 405000 504000 470000 572000 480000]\n",
            "[26000 30000 32000 45000 42000 47000 52000 48000     8     7    10     9\n",
            "    12    10    11    10]\n",
            "[[26000 30000 32000 45000 42000 47000 52000 48000]\n",
            " [    8     7    10     9    12    10    11    10]]\n",
            "[26000 30000 32000 45000 42000 47000 52000 48000]\n",
            "[50000 30000 32000 45000 42000 47000 52000 48000]\n",
            "[ 8  7 10  9 12 10 11 10]\n",
            "[13  7 10  9 12 10 11 10]\n",
            "(array([], dtype=int64),)\n",
            "[26000 30000 32000 42000 45000 47000 48000 52000]\n"
          ]
        }
      ]
    }
  ]
}