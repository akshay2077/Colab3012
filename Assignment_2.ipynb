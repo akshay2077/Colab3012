{
  "nbformat": 4,
  "nbformat_minor": 0,
  "metadata": {
    "colab": {
      "provenance": [],
      "include_colab_link": true
    },
    "kernelspec": {
      "name": "python3",
      "display_name": "Python 3"
    },
    "language_info": {
      "name": "python"
    }
  },
  "cells": [
    {
      "cell_type": "markdown",
      "metadata": {
        "id": "view-in-github",
        "colab_type": "text"
      },
      "source": [
        "<a href=\"https://colab.research.google.com/github/akshay2077/Colab3012/blob/main/Assignment_2.ipynb\" target=\"_parent\"><img src=\"https://colab.research.google.com/assets/colab-badge.svg\" alt=\"Open In Colab\"/></a>"
      ]
    },
    {
      "cell_type": "code",
      "execution_count": null,
      "metadata": {
        "id": "JdcyL2lma4n8"
      },
      "outputs": [],
      "source": [
        "\n",
        "player_team=[]\n",
        "player_runs=dict()\n",
        "mat_played=dict()\n",
        "balls_faced=dict()\n",
        "avg=dict()\n",
        "highest_score=dict()\n",
        "strike_rate=dict()\n",
        "fours=dict()\n",
        "sixes=dict()\n",
        "century=[]\n",
        "fiftys=dict()\n",
        "\n",
        "f=open(\"IPL.csv\",\"r\")\n",
        "data=f.readline()\n",
        "\n",
        "\n",
        ""
      ]
    },
    {
      "cell_type": "code",
      "source": [
        "while(True):\n",
        "\n",
        "  data=f.readline()\n",
        "  if not data:\n",
        "    break;\n",
        "\n",
        "  print(data)\n",
        "  #data=data.replace(\"\\n\",\"\")\n",
        "  temp=data.split(\",\")\n",
        "  player_team.append(temp[2])\n",
        "  player_runs.update({temp[1]:temp[3]})\n",
        "  mat_played.update({temp[1]:temp[4]})\n",
        "  balls_faced.update({temp[1]:temp[5]})\n",
        "  avg.update({temp[1]:temp[6]})\n",
        "  highest_score.update({temp[1]:int(temp[7])})\n",
        "  strike_rate.update({temp[1]:temp[8]})\n",
        "  fours.update({temp[1]:temp[9]})\n",
        "  sixes.update({temp[1]:temp[10]})\n",
        "  century.append(int(temp[11]))\n",
        "  fiftys.update({temp[1]:int(temp[12])})\n",
        "\n",
        "\n",
        "player_team=tuple(player_team)"
      ],
      "metadata": {
        "colab": {
          "base_uri": "https://localhost:8080/"
        },
        "id": "bA4ypyXLftbV",
        "outputId": "a64cc12b-21ec-4b43-9256-0613c23af79a"
      },
      "execution_count": null,
      "outputs": [
        {
          "output_type": "stream",
          "name": "stdout",
          "text": [
            "1,Shubman Gill,GT,851,16,544,60.79,129,156.43,78,33,3,4\n",
            "\n",
            "2,Faf du Plessis,RCB,730,14,475,56.15,84,153.68,60,36,0,8\n",
            "\n",
            "3,Virat Kohli,RCB,639,14,457,53.25,101,139.82,65,16,2,6\n",
            "\n",
            "4,Yashasvi Jaiswal,RR,625,14,382,48.08,124,163.61,82,26,1,5\n",
            "\n",
            "5,Devon Conway,CSK,625,15,456,52.08,92,137.06,73,16,0,6\n",
            "\n",
            "6,Suryakumar Yadav,MI,605,16,334,43.21,103,181.14,65,28,1,5\n",
            "\n",
            "7,Ruturaj Gaikwad,CSK,564,15,384,43.38,92,146.88,43,29,0,4\n",
            "\n",
            "8,David Warner,DC,516,14,392,36.86,86,131.63,69,10,0,6\n",
            "\n",
            "9,Rinku Singh,KKR,474,14,317,59.25,67,149.53,31,29,0,4\n",
            "\n",
            "10,Ishan Kishan,MI,454,16,318,30.27,75,142.77,54,18,0,3\n",
            "\n",
            "11,Cameron Green,MI,452,16,282,50.22,100,160.28,40,22,1,2\n",
            "\n",
            "12,Heinrich Klaasen,SRH,448,12,253,49.78,104,177.08,32,25,1,2\n",
            "\n",
            "13,Nitish Rana,KKR,413,14,293,31.77,75,140.96,39,20,0,3\n",
            "\n",
            "14,Marcus Stoinis,LSG,408,15,272,31.38,89,150,28,27,0,3\n",
            "\n",
            "15,Venkatesh Iyer,KKR,404,14,277,28.86,104,145.85,32,21,1,2\n",
            "\n"
          ]
        }
      ]
    },
    {
      "cell_type": "markdown",
      "source": [
        "\n",
        "\n",
        "---\n",
        "\n",
        "\n",
        "**1)Which team has most no of player in List**\n",
        "\n",
        "---\n",
        "\n",
        "\n",
        "\n",
        "\n",
        "\n",
        "\n"
      ],
      "metadata": {
        "id": "pZW2C6neiZfg"
      }
    },
    {
      "cell_type": "code",
      "source": [
        "print(player_team,\"\\n\\n\\n\")\n",
        "\n",
        "frequency ={}\n",
        "for team in player_team:\n",
        "  if team in frequency:\n",
        "    frequency[team]+=1\n",
        "  else:\n",
        "    frequency[team]=1\n",
        "print(frequency)\n",
        "marklist = sorted(frequency.items(), key=lambda x:x[1],reverse=True)\n",
        "sortdict = dict(marklist)\n",
        "print(sortdict)\n",
        "print(\"\\n\\nTeam which have most batsmen in list is\", list(sortdict.keys())[0],\"with\",list(sortdict.values())[0],\"plyers\")"
      ],
      "metadata": {
        "colab": {
          "base_uri": "https://localhost:8080/"
        },
        "id": "vRPb_i98lv8j",
        "outputId": "63974c8d-6560-4962-df32-6dae56cb2154"
      },
      "execution_count": null,
      "outputs": [
        {
          "output_type": "stream",
          "name": "stdout",
          "text": [
            "('GT', 'RCB', 'RCB', 'RR', 'CSK', 'MI', 'CSK', 'DC', 'KKR', 'MI', 'MI', 'SRH', 'KKR', 'LSG', 'KKR') \n",
            "\n",
            "\n",
            "\n",
            "{'GT': 1, 'RCB': 2, 'RR': 1, 'CSK': 2, 'MI': 3, 'DC': 1, 'KKR': 3, 'SRH': 1, 'LSG': 1}\n",
            "{'MI': 3, 'KKR': 3, 'RCB': 2, 'CSK': 2, 'GT': 1, 'RR': 1, 'DC': 1, 'SRH': 1, 'LSG': 1}\n",
            "\n",
            "\n",
            "Team which have most batsmen in list is MI with 3 plyers\n"
          ]
        }
      ]
    },
    {
      "cell_type": "markdown",
      "source": [
        "\n",
        "\n",
        "---\n",
        "\n",
        "\n",
        "**2)which players scores more than 500 runs**\n",
        "\n",
        "\n",
        "---\n",
        "\n"
      ],
      "metadata": {
        "id": "uitq7xuLjAwl"
      }
    },
    {
      "cell_type": "code",
      "source": [
        "print(player_runs)\n",
        "print(\"\\n\\n\\nPlayers with more than 500 matches are\")\n",
        "for player in player_runs:\n",
        "  if player_runs[player]>=\"500\":\n",
        "    print(player,\"\\t\\t:\",player_runs[player])"
      ],
      "metadata": {
        "id": "XbqYrpNjnYa7",
        "colab": {
          "base_uri": "https://localhost:8080/"
        },
        "outputId": "febdefcd-3f09-4641-d3b4-d93ef4881e7f"
      },
      "execution_count": null,
      "outputs": [
        {
          "output_type": "stream",
          "name": "stdout",
          "text": [
            "{'Shubman Gill': '851', 'Faf du Plessis': '730', 'Virat Kohli': '639', 'Yashasvi Jaiswal': '625', 'Devon Conway': '625', 'Suryakumar Yadav': '605', 'Ruturaj Gaikwad': '564', 'David Warner': '516', 'Rinku Singh': '474', 'Ishan Kishan': '454', 'Cameron Green': '452', 'Heinrich Klaasen': '448', 'Nitish Rana': '413', 'Marcus Stoinis': '408', 'Venkatesh Iyer': '404'}\n",
            "\n",
            "\n",
            "\n",
            "Players with more than 500 matches are\n",
            "Shubman Gill \t\t: 851\n",
            "Faf du Plessis \t\t: 730\n",
            "Virat Kohli \t\t: 639\n",
            "Yashasvi Jaiswal \t\t: 625\n",
            "Devon Conway \t\t: 625\n",
            "Suryakumar Yadav \t\t: 605\n",
            "Ruturaj Gaikwad \t\t: 564\n",
            "David Warner \t\t: 516\n"
          ]
        }
      ]
    },
    {
      "cell_type": "markdown",
      "source": [
        "\n",
        "\n",
        "---\n",
        "\n",
        "\n",
        "**3)Who played most matches in this ipl**\n",
        "\n",
        "\n",
        "---\n",
        "\n"
      ],
      "metadata": {
        "id": "Y9RBEyopjNcq"
      }
    },
    {
      "cell_type": "code",
      "source": [
        "print(mat_played)\n",
        "print(\"\\n\\n\\nPlayers played most'\",max(mat_played.values()),\"'times are:\",end=\" \")\n",
        "\n",
        "for player in mat_played:\n",
        "  if mat_played[player]==max(mat_played.values()):\n",
        "    print(player,end=\", \")\n",
        "\n"
      ],
      "metadata": {
        "colab": {
          "base_uri": "https://localhost:8080/"
        },
        "id": "oJAnPemHjOSH",
        "outputId": "e8a9f2eb-d3a5-4bc2-cf29-970045932b9f"
      },
      "execution_count": null,
      "outputs": [
        {
          "output_type": "stream",
          "name": "stdout",
          "text": [
            "{'Shubman Gill': '16', 'Faf du Plessis': '14', 'Virat Kohli': '14', 'Yashasvi Jaiswal': '14', 'Devon Conway': '15', 'Suryakumar Yadav': '16', 'Ruturaj Gaikwad': '15', 'David Warner': '14', 'Rinku Singh': '14', 'Ishan Kishan': '16', 'Cameron Green': '16', 'Heinrich Klaasen': '12', 'Nitish Rana': '14', 'Marcus Stoinis': '15', 'Venkatesh Iyer': '14'}\n",
            "\n",
            "\n",
            "\n",
            "Players played most' 16 'times are: Shubman Gill, Suryakumar Yadav, Ishan Kishan, Cameron Green, "
          ]
        }
      ]
    },
    {
      "cell_type": "markdown",
      "source": [
        "\n",
        "\n",
        "---\n",
        "\n",
        "\n",
        "**4)Who Faced most balls in This ipl**\n",
        "\n",
        "\n",
        "---\n",
        "\n"
      ],
      "metadata": {
        "id": "BXNXFhQu31Ue"
      }
    },
    {
      "cell_type": "code",
      "source": [
        "print(balls_faced)\n",
        "\n",
        "for player in balls_faced:\n",
        "  if balls_faced[player]==max(balls_faced.values()):\n",
        "    print(\"\\n\\n\\n\",player,end=\" \")\n",
        "\n",
        "\n",
        "print(\"faced most\",max(balls_faced.values()),\"balls in this ipl\")"
      ],
      "metadata": {
        "colab": {
          "base_uri": "https://localhost:8080/"
        },
        "id": "U4fumiu-oYR9",
        "outputId": "ec225f2a-cc85-4301-f4d9-856f124a3b2a"
      },
      "execution_count": null,
      "outputs": [
        {
          "output_type": "stream",
          "name": "stdout",
          "text": [
            "{'Shubman Gill': '544', 'Faf du Plessis': '475', 'Virat Kohli': '457', 'Yashasvi Jaiswal': '382', 'Devon Conway': '456', 'Suryakumar Yadav': '334', 'Ruturaj Gaikwad': '384', 'David Warner': '392', 'Rinku Singh': '317', 'Ishan Kishan': '318', 'Cameron Green': '282', 'Heinrich Klaasen': '253', 'Nitish Rana': '293', 'Marcus Stoinis': '272', 'Venkatesh Iyer': '277'}\n",
            "\n",
            "\n",
            "\n",
            " Shubman Gill faced most 544 balls in this ipl\n"
          ]
        }
      ]
    },
    {
      "cell_type": "markdown",
      "source": [
        "\n",
        "\n",
        "---\n",
        "\n",
        "\n",
        "**5)which olayers had faced more than 400 balls**\n",
        "\n",
        "---\n",
        "\n"
      ],
      "metadata": {
        "id": "lhZUy4Wm6jJa"
      }
    },
    {
      "cell_type": "code",
      "source": [
        "print(\"\\n\\n\\nPlayers who faced more than 400 balls are\")\n",
        "for player in balls_faced:\n",
        "  if balls_faced[player]>=\"400\":\n",
        "    print(player,\"\\t\\t:\",balls_faced[player])"
      ],
      "metadata": {
        "colab": {
          "base_uri": "https://localhost:8080/"
        },
        "id": "fK05W5lO6ixh",
        "outputId": "49ff7834-e3cc-4285-d936-096b9b212bc6"
      },
      "execution_count": null,
      "outputs": [
        {
          "output_type": "stream",
          "name": "stdout",
          "text": [
            "\n",
            "\n",
            "\n",
            "Players who faced more than 400 balls are\n",
            "Shubman Gill \t\t: 544\n",
            "Faf du Plessis \t\t: 475\n",
            "Virat Kohli \t\t: 457\n",
            "Devon Conway \t\t: 456\n"
          ]
        }
      ]
    },
    {
      "cell_type": "markdown",
      "source": [
        "\n",
        "\n",
        "---\n",
        "\n",
        "\n",
        "**6)Which player has Best avg in this ipl**\n",
        "\n",
        "---\n",
        "\n"
      ],
      "metadata": {
        "id": "7tlTvSxw713d"
      }
    },
    {
      "cell_type": "code",
      "source": [
        "print(avg)\n",
        "\n",
        "for player in avg:\n",
        "  if avg[player]==max(avg.values()):\n",
        "    print(\"\\n\\n\\n\",player,end=\" \")\n",
        "\n",
        "\n",
        "print(\"has best avg of\",max(avg.values()),\"in this ipl\")"
      ],
      "metadata": {
        "colab": {
          "base_uri": "https://localhost:8080/"
        },
        "id": "lvwX4wa_8GkR",
        "outputId": "f5925ce8-09cd-4e33-e476-aa799533e425"
      },
      "execution_count": null,
      "outputs": [
        {
          "output_type": "stream",
          "name": "stdout",
          "text": [
            "{'Shubman Gill': '60.79', 'Faf du Plessis': '56.15', 'Virat Kohli': '53.25', 'Yashasvi Jaiswal': '48.08', 'Devon Conway': '52.08', 'Suryakumar Yadav': '43.21', 'Ruturaj Gaikwad': '43.38', 'David Warner': '36.86', 'Rinku Singh': '59.25', 'Ishan Kishan': '30.27', 'Cameron Green': '50.22', 'Heinrich Klaasen': '49.78', 'Nitish Rana': '31.77', 'Marcus Stoinis': '31.38', 'Venkatesh Iyer': '28.86'}\n",
            "\n",
            "\n",
            "\n",
            " Shubman Gill has best avg of 60.79 in this ipl\n"
          ]
        }
      ]
    },
    {
      "cell_type": "markdown",
      "source": [
        "\n",
        "\n",
        "---\n",
        "\n",
        "\n",
        "**7)Which players scored more than 100 in a single match**\n",
        "\n",
        "---\n",
        "\n"
      ],
      "metadata": {
        "id": "RyugPDQ48hD3"
      }
    },
    {
      "cell_type": "code",
      "source": [
        "print(highest_score)\n",
        "\n",
        "\n",
        "print(\"\\n\\n\\nPlayers who scored more than 100 in single match are\")\n",
        "for player in highest_score:\n",
        "  if highest_score[player]>=100:\n",
        "    print(player,\"\\t\\t:\",highest_score[player])"
      ],
      "metadata": {
        "colab": {
          "base_uri": "https://localhost:8080/"
        },
        "id": "PAp44s0381RM",
        "outputId": "e139dbf0-c0eb-4a98-8da7-586820fdcaba"
      },
      "execution_count": null,
      "outputs": [
        {
          "output_type": "stream",
          "name": "stdout",
          "text": [
            "{'Shubman Gill': 129, 'Faf du Plessis': 84, 'Virat Kohli': 101, 'Yashasvi Jaiswal': 124, 'Devon Conway': 92, 'Suryakumar Yadav': 103, 'Ruturaj Gaikwad': 92, 'David Warner': 86, 'Rinku Singh': 67, 'Ishan Kishan': 75, 'Cameron Green': 100, 'Heinrich Klaasen': 104, 'Nitish Rana': 75, 'Marcus Stoinis': 89, 'Venkatesh Iyer': 104}\n",
            "\n",
            "\n",
            "\n",
            "Players who scored more than 100 in single match are\n",
            "Shubman Gill \t\t: 129\n",
            "Virat Kohli \t\t: 101\n",
            "Yashasvi Jaiswal \t\t: 124\n",
            "Suryakumar Yadav \t\t: 103\n",
            "Cameron Green \t\t: 100\n",
            "Heinrich Klaasen \t\t: 104\n",
            "Venkatesh Iyer \t\t: 104\n"
          ]
        }
      ]
    },
    {
      "cell_type": "markdown",
      "source": [
        "\n",
        "\n",
        "---\n",
        "\n",
        "\n",
        "**8)Who has Highest strike rate in this ipl**\n",
        "\n",
        "---\n",
        "\n"
      ],
      "metadata": {
        "id": "FS78aNjS_hBQ"
      }
    },
    {
      "cell_type": "code",
      "source": [
        "print(strike_rate)\n",
        "\n",
        "for player in strike_rate:\n",
        "  if strike_rate[player]==max(strike_rate.values()):\n",
        "    print(\"\\n\\n\\n\",player,end=\" \")\n",
        "\n",
        "\n",
        "print(\"has highest strike rate of\",max(strike_rate.values()),\"in this ipl\")"
      ],
      "metadata": {
        "colab": {
          "base_uri": "https://localhost:8080/"
        },
        "id": "Yn0Eym-q9Xby",
        "outputId": "84c92c7a-e353-41b9-a060-2c85e7e26477"
      },
      "execution_count": null,
      "outputs": [
        {
          "output_type": "stream",
          "name": "stdout",
          "text": [
            "{'Shubman Gill': '156.43', 'Faf du Plessis': '153.68', 'Virat Kohli': '139.82', 'Yashasvi Jaiswal': '163.61', 'Devon Conway': '137.06', 'Suryakumar Yadav': '181.14', 'Ruturaj Gaikwad': '146.88', 'David Warner': '131.63', 'Rinku Singh': '149.53', 'Ishan Kishan': '142.77', 'Cameron Green': '160.28', 'Heinrich Klaasen': '177.08', 'Nitish Rana': '140.96', 'Marcus Stoinis': '150', 'Venkatesh Iyer': '145.85'}\n",
            "\n",
            "\n",
            "\n",
            " Suryakumar Yadav has highest strike rate of 181.14 in this ipl\n"
          ]
        }
      ]
    },
    {
      "cell_type": "markdown",
      "source": [
        "\n",
        "\n",
        "---\n",
        "\n",
        "\n",
        "**9)How many players have more than 50 fours in this ipl**\n",
        "\n",
        "---\n",
        "\n"
      ],
      "metadata": {
        "id": "bC8m0v3xBj3q"
      }
    },
    {
      "cell_type": "code",
      "source": [
        "print(fours)\n",
        "count = 0\n",
        "for player in fours:\n",
        "  if fours[player] > '50':\n",
        "    print(player,\"\\t\\t:\",fours[player])\n",
        "    count=count + 1\n",
        "\n",
        "print(\"\\n\\nTotal\",count,\"players have more than 50 fours in ipl\")"
      ],
      "metadata": {
        "colab": {
          "base_uri": "https://localhost:8080/"
        },
        "id": "7P3PO2iCAIVi",
        "outputId": "fab62565-812f-4134-cb82-41d4eec5657c"
      },
      "execution_count": null,
      "outputs": [
        {
          "output_type": "stream",
          "name": "stdout",
          "text": [
            "{'Shubman Gill': '78', 'Faf du Plessis': '60', 'Virat Kohli': '65', 'Yashasvi Jaiswal': '82', 'Devon Conway': '73', 'Suryakumar Yadav': '65', 'Ruturaj Gaikwad': '43', 'David Warner': '69', 'Rinku Singh': '31', 'Ishan Kishan': '54', 'Cameron Green': '40', 'Heinrich Klaasen': '32', 'Nitish Rana': '39', 'Marcus Stoinis': '28', 'Venkatesh Iyer': '32'}\n",
            "Shubman Gill \t\t: 78\n",
            "Faf du Plessis \t\t: 60\n",
            "Virat Kohli \t\t: 65\n",
            "Yashasvi Jaiswal \t\t: 82\n",
            "Devon Conway \t\t: 73\n",
            "Suryakumar Yadav \t\t: 65\n",
            "David Warner \t\t: 69\n",
            "Ishan Kishan \t\t: 54\n",
            "\n",
            "\n",
            "Total 8 players have more than 50 fours in ipl\n"
          ]
        }
      ]
    },
    {
      "cell_type": "markdown",
      "source": [
        "\n",
        "\n",
        "---\n",
        "\n",
        "\n",
        "**10)Who have most no of sixes in this ipl**\n",
        "\n",
        "---\n",
        "\n"
      ],
      "metadata": {
        "id": "_fXSAS_KB5q4"
      }
    },
    {
      "cell_type": "code",
      "source": [
        "print(sixes,\"\\n\\n\\n\")\n",
        "\n",
        "for player in sixes:\n",
        "  if sixes[player]==max(sixes.values()):\n",
        "    print(player,\"have most no of\",max(sixes.values()),\"sixes in this ipl\")"
      ],
      "metadata": {
        "colab": {
          "base_uri": "https://localhost:8080/"
        },
        "id": "q2Kb_JNrCDHU",
        "outputId": "700b6980-09ec-482b-9c68-e6aac282f851"
      },
      "execution_count": null,
      "outputs": [
        {
          "output_type": "stream",
          "name": "stdout",
          "text": [
            "{'Shubman Gill': '33', 'Faf du Plessis': '36', 'Virat Kohli': '16', 'Yashasvi Jaiswal': '26', 'Devon Conway': '16', 'Suryakumar Yadav': '28', 'Ruturaj Gaikwad': '29', 'David Warner': '10', 'Rinku Singh': '29', 'Ishan Kishan': '18', 'Cameron Green': '22', 'Heinrich Klaasen': '25', 'Nitish Rana': '20', 'Marcus Stoinis': '27', 'Venkatesh Iyer': '21'} \n",
            "\n",
            "\n",
            "\n",
            "Faf du Plessis have most no of 36 sixes in this ipl\n"
          ]
        }
      ]
    },
    {
      "cell_type": "markdown",
      "source": [
        "\n",
        "\n",
        "---\n",
        "\n",
        "\n",
        "**11)How many total century scored in this ipl**\n",
        "\n",
        "---\n",
        "\n"
      ],
      "metadata": {
        "id": "mXDXsSdgC-iY"
      }
    },
    {
      "cell_type": "code",
      "source": [
        "print(century)\n",
        "\n",
        "\n",
        "print(\"\\n\\nTotal\",sum(century),\"century scored in this ipl\")"
      ],
      "metadata": {
        "colab": {
          "base_uri": "https://localhost:8080/"
        },
        "id": "LTWrqDMPDUkC",
        "outputId": "48496b73-9a7e-4202-e02c-57f91cdcd1d6"
      },
      "execution_count": null,
      "outputs": [
        {
          "output_type": "stream",
          "name": "stdout",
          "text": [
            "[3, 0, 2, 1, 0, 1, 0, 0, 0, 0, 1, 1, 0, 0, 1]\n",
            "\n",
            "\n",
            "Total 10 century scored in this ipl\n"
          ]
        }
      ]
    },
    {
      "cell_type": "markdown",
      "source": [
        "\n",
        "\n",
        "---\n",
        "\n",
        "\n",
        "**12) How many players scored more than '5' Fiftys in this ipl**\n",
        "\n",
        "---\n",
        "\n"
      ],
      "metadata": {
        "id": "LfhMc2vIEkCb"
      }
    },
    {
      "cell_type": "code",
      "source": [
        "print(fiftys)\n",
        "\n",
        "count = 0\n",
        "for player in fiftys:\n",
        "  if fiftys[player] > 5:\n",
        "    print(player,\"\\t\\t:\",fiftys[player])\n",
        "    count=count + 1\n",
        "\n",
        "print(\"\\n\\nTotal\",count,\"players have more than 5 fiftys in ipl\")\n"
      ],
      "metadata": {
        "colab": {
          "base_uri": "https://localhost:8080/"
        },
        "id": "jB84DANSFWNa",
        "outputId": "a1d41be1-1667-4bc1-a8ff-ab5824cb1d63"
      },
      "execution_count": null,
      "outputs": [
        {
          "output_type": "stream",
          "name": "stdout",
          "text": [
            "{'Shubman Gill': 4, 'Faf du Plessis': 8, 'Virat Kohli': 6, 'Yashasvi Jaiswal': 5, 'Devon Conway': 6, 'Suryakumar Yadav': 5, 'Ruturaj Gaikwad': 4, 'David Warner': 6, 'Rinku Singh': 4, 'Ishan Kishan': 3, 'Cameron Green': 2, 'Heinrich Klaasen': 2, 'Nitish Rana': 3, 'Marcus Stoinis': 3, 'Venkatesh Iyer': 2}\n",
            "Faf du Plessis \t\t: 8\n",
            "Virat Kohli \t\t: 6\n",
            "Devon Conway \t\t: 6\n",
            "David Warner \t\t: 6\n",
            "\n",
            "\n",
            "Total 4 players have more than 5 fiftys in ipl\n"
          ]
        }
      ]
    }
  ]
}