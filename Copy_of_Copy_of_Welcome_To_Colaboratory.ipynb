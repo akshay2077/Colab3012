{
  "cells": [
    {
      "cell_type": "markdown",
      "metadata": {
        "id": "view-in-github",
        "colab_type": "text"
      },
      "source": [
        "<a href=\"https://colab.research.google.com/github/akshay2077/Colab3012/blob/main/Copy_of_Copy_of_Welcome_To_Colaboratory.ipynb\" target=\"_parent\"><img src=\"https://colab.research.google.com/assets/colab-badge.svg\" alt=\"Open In Colab\"/></a>"
      ]
    },
    {
      "cell_type": "code",
      "source": [
        "import numpy as np\n",
        "arr1 = np.array([1,2,3])\n",
        "arr2 = np.array([4,5,6])\n",
        "\n",
        "arr3 = np.vstack((arr1,arr2))\n",
        "print(arr3)"
      ],
      "metadata": {
        "colab": {
          "base_uri": "https://localhost:8080/"
        },
        "id": "P4wTlljdLpBD",
        "outputId": "857fce9b-3c12-4a47-cd41-0d75638e7900"
      },
      "execution_count": null,
      "outputs": [
        {
          "output_type": "stream",
          "name": "stdout",
          "text": [
            "[[1 2 3]\n",
            " [4 5 6]]\n"
          ]
        }
      ]
    },
    {
      "cell_type": "code",
      "source": [
        "import numpy as np\n",
        "arr = np.array([1,2,3,4,5])\n",
        "print(np.sort(arr))"
      ],
      "metadata": {
        "colab": {
          "base_uri": "https://localhost:8080/"
        },
        "id": "VzZV_uW-PUJC",
        "outputId": "34f05b04-79e7-4579-b524-c45b8f0c798d"
      },
      "execution_count": null,
      "outputs": [
        {
          "output_type": "stream",
          "name": "stdout",
          "text": [
            "[1 2 3 4 5]\n"
          ]
        }
      ]
    },
    {
      "cell_type": "code",
      "source": [
        "import numpy as np\n",
        "arr1 = np.array([1,2,3])\n",
        "arr2 = np.array([4,5,6])\n",
        "\n",
        "arr3 = np.hstack((arr1,arr2))\n",
        "print(arr3)"
      ],
      "metadata": {
        "colab": {
          "base_uri": "https://localhost:8080/"
        },
        "id": "aaYlQgDPMDLL",
        "outputId": "304e7445-fe92-45e1-c3ed-97a6707fc297"
      },
      "execution_count": null,
      "outputs": [
        {
          "output_type": "stream",
          "name": "stdout",
          "text": [
            "[1 2 3 4 5 6]\n"
          ]
        }
      ]
    },
    {
      "cell_type": "code",
      "source": [
        "import numpy as np\n",
        "arr = ([[1,2,3,4],[5,6,7,8]])\n",
        "print(np.sort(arr))"
      ],
      "metadata": {
        "colab": {
          "base_uri": "https://localhost:8080/"
        },
        "id": "yX-7lkX8Poby",
        "outputId": "7858b5af-26b8-416b-ea3d-4731736fc33d"
      },
      "execution_count": null,
      "outputs": [
        {
          "output_type": "stream",
          "name": "stdout",
          "text": [
            "[[1 2 3 4]\n",
            " [5 6 7 8]]\n"
          ]
        }
      ]
    },
    {
      "cell_type": "code",
      "source": [
        "import numpy as np\n",
        "arr = np.array([1,2,3,4])\n",
        "x = [True,False,True,False]\n",
        "newarr = arr[x]\n",
        "print(newarr)"
      ],
      "metadata": {
        "colab": {
          "base_uri": "https://localhost:8080/"
        },
        "id": "7cT8HRMCQu_K",
        "outputId": "b3539843-cf76-4b98-d7bc-d339f0035f3d"
      },
      "execution_count": null,
      "outputs": [
        {
          "output_type": "stream",
          "name": "stdout",
          "text": [
            "[1 3]\n"
          ]
        }
      ]
    },
    {
      "cell_type": "code",
      "source": [
        "import numpy as np\n",
        "list1 = [x for x in range(0,101,2)]\n",
        "a = np.array(list1)\n",
        "print(a)"
      ],
      "metadata": {
        "id": "5SQpAQbjSXpK",
        "outputId": "1fb98897-44ce-4fd5-8a54-f5dceef4730c",
        "colab": {
          "base_uri": "https://localhost:8080/"
        }
      },
      "execution_count": null,
      "outputs": [
        {
          "output_type": "stream",
          "name": "stdout",
          "text": [
            "[  0   2   4   6   8  10  12  14  16  18  20  22  24  26  28  30  32  34\n",
            "  36  38  40  42  44  46  48  50  52  54  56  58  60  62  64  66  68  70\n",
            "  72  74  76  78  80  82  84  86  88  90  92  94  96  98 100]\n"
          ]
        }
      ]
    },
    {
      "cell_type": "code",
      "source": [
        "import numpy as np\n",
        "list1 = [x for x in range(1,100,3)]\n",
        "a = np.array(list1)\n",
        "print(a)\n",
        "print(type(list))\n",
        "print(type(a))"
      ],
      "metadata": {
        "id": "xJCZwmcESulj",
        "outputId": "c4e26000-669b-4e11-f53b-34022881803b",
        "colab": {
          "base_uri": "https://localhost:8080/"
        }
      },
      "execution_count": null,
      "outputs": [
        {
          "output_type": "stream",
          "name": "stdout",
          "text": [
            "[ 1  4  7 10 13 16 19 22 25 28 31 34 37 40 43 46 49 52 55 58 61 64 67 70\n",
            " 73 76 79 82 85 88 91 94 97]\n",
            "<class 'type'>\n",
            "<class 'numpy.ndarray'>\n"
          ]
        }
      ]
    },
    {
      "cell_type": "code",
      "source": [
        "b = np.arange(50,0,-1).reshape(5,10)\n",
        "print(b)"
      ],
      "metadata": {
        "id": "4Yk26heXTb3a",
        "outputId": "a78882cf-9f5b-40ca-a1cc-a5609c8289a6",
        "colab": {
          "base_uri": "https://localhost:8080/"
        }
      },
      "execution_count": null,
      "outputs": [
        {
          "output_type": "stream",
          "name": "stdout",
          "text": [
            "[[50 49 48 47 46 45 44 43 42 41]\n",
            " [40 39 38 37 36 35 34 33 32 31]\n",
            " [30 29 28 27 26 25 24 23 22 21]\n",
            " [20 19 18 17 16 15 14 13 12 11]\n",
            " [10  9  8  7  6  5  4  3  2  1]]\n"
          ]
        }
      ]
    },
    {
      "cell_type": "code",
      "source": [
        "b = np.arange(9,0,-1).reshape(3,3)\n",
        "print(b)"
      ],
      "metadata": {
        "id": "oehPk5lmTuY5",
        "outputId": "e70a630d-0151-4b3e-cad6-2194da2fba94",
        "colab": {
          "base_uri": "https://localhost:8080/"
        }
      },
      "execution_count": null,
      "outputs": [
        {
          "output_type": "stream",
          "name": "stdout",
          "text": [
            "[[9 8 7]\n",
            " [6 5 4]\n",
            " [3 2 1]]\n"
          ]
        }
      ]
    },
    {
      "cell_type": "code",
      "source": [
        "import numpy as np\n",
        "a = np.array([1,2,3,4,5,6])\n",
        "nparray=np.empty((3,3),int)\n",
        "print(nparray)"
      ],
      "metadata": {
        "id": "6flvwToYTmmh",
        "outputId": "8f11c5d3-d1ea-43f6-eb3a-e27cb45b54c2",
        "colab": {
          "base_uri": "https://localhost:8080/"
        }
      },
      "execution_count": null,
      "outputs": [
        {
          "output_type": "stream",
          "name": "stdout",
          "text": [
            "[[9 8 7]\n",
            " [6 5 4]\n",
            " [3 2 1]]\n"
          ]
        }
      ]
    },
    {
      "cell_type": "code",
      "source": [
        "z = np.linspace(0,100,5)\n",
        "print(z)"
      ],
      "metadata": {
        "id": "kqaKP74SVvYi",
        "outputId": "e8765784-ed24-405d-feba-aafabce566f3",
        "colab": {
          "base_uri": "https://localhost:8080/"
        }
      },
      "execution_count": null,
      "outputs": [
        {
          "output_type": "stream",
          "name": "stdout",
          "text": [
            "[  0.  25.  50.  75. 100.]\n"
          ]
        }
      ]
    },
    {
      "cell_type": "code",
      "source": [
        "a = np.linspace(1,50,5)\n",
        "print(a)"
      ],
      "metadata": {
        "id": "7jKnoXE0WA5a",
        "outputId": "53d42663-c982-48ab-de7b-de64bc2dca32",
        "colab": {
          "base_uri": "https://localhost:8080/"
        }
      },
      "execution_count": null,
      "outputs": [
        {
          "output_type": "stream",
          "name": "stdout",
          "text": [
            "[ 1.   13.25 25.5  37.75 50.  ]\n"
          ]
        }
      ]
    },
    {
      "cell_type": "code",
      "source": [
        "import numpy as np\n",
        "a = np.array([1,2,3,4])\n",
        "b = np.array([1,3,5,4])\n",
        "print(np.where(a==b))\n"
      ],
      "metadata": {
        "id": "D7xeEltAWVqS",
        "outputId": "19e08e3f-ed90-49a2-d42c-f62164d960fb",
        "colab": {
          "base_uri": "https://localhost:8080/"
        }
      },
      "execution_count": null,
      "outputs": [
        {
          "output_type": "stream",
          "name": "stdout",
          "text": [
            "(array([0, 3]),)\n"
          ]
        }
      ]
    },
    {
      "cell_type": "code",
      "source": [
        "import numpy as np\n",
        "a = np.array([1,2,3,4])\n",
        "b = np.array([1,3,5,4])\n",
        "print(np.where(a==4))\n",
        "print(np.where(b==4))"
      ],
      "metadata": {
        "id": "BUQfGX9kW4pp",
        "outputId": "c4f88d0d-83d1-482d-9ad0-d68a5cbb4e0a",
        "colab": {
          "base_uri": "https://localhost:8080/"
        }
      },
      "execution_count": null,
      "outputs": [
        {
          "output_type": "stream",
          "name": "stdout",
          "text": [
            "(array([3]),)\n",
            "(array([3]),)\n"
          ]
        }
      ]
    },
    {
      "cell_type": "code",
      "source": [
        "import numpy as np\n",
        "arr = np.array([1,2,3,4,5,6,7,8,9,10,11,12,13,14])\n",
        "x = np.where(arr%2==0)\n",
        "print(x)"
      ],
      "metadata": {
        "id": "yjtNR_ksXIUp",
        "outputId": "2873ef19-66db-4436-85f6-40401683d2dd",
        "colab": {
          "base_uri": "https://localhost:8080/"
        }
      },
      "execution_count": null,
      "outputs": [
        {
          "output_type": "stream",
          "name": "stdout",
          "text": [
            "(array([ 1,  3,  5,  7,  9, 11, 13]),)\n"
          ]
        }
      ]
    },
    {
      "cell_type": "code",
      "source": [
        "import numpy as np\n",
        "arr = ([1,2,3,4,5,6])\n",
        "x = np.searchsorted(arr,5)\n",
        "print(x)"
      ],
      "metadata": {
        "id": "US_FXKcmXyyg",
        "outputId": "7d088858-b0f9-4a2c-a1fc-7035314d7dd5",
        "colab": {
          "base_uri": "https://localhost:8080/"
        }
      },
      "execution_count": null,
      "outputs": [
        {
          "output_type": "stream",
          "name": "stdout",
          "text": [
            "4\n"
          ]
        }
      ]
    },
    {
      "cell_type": "code",
      "source": [
        "import numpy as np\n",
        "arr = np.array([1,2,3,4,5,6])\n",
        "x = np.searchsorted(arr,4,side='right')\n",
        "print(x)"
      ],
      "metadata": {
        "id": "EZvpBw0jYmIR",
        "outputId": "f8fe301e-032c-47c0-b5c7-31afb3c7af74",
        "colab": {
          "base_uri": "https://localhost:8080/"
        }
      },
      "execution_count": null,
      "outputs": [
        {
          "output_type": "stream",
          "name": "stdout",
          "text": [
            "4\n"
          ]
        }
      ]
    },
    {
      "cell_type": "code",
      "source": [
        "import numpy as np\n",
        "arr = np.array([1,2,3,4,5,6])\n",
        "x = np.searchsorted(arr,1,side='right')\n",
        "print(x)"
      ],
      "metadata": {
        "id": "yDReQyA9aCrx",
        "outputId": "e26c935d-f3c5-46a9-b2b2-4318a8728495",
        "colab": {
          "base_uri": "https://localhost:8080/"
        }
      },
      "execution_count": null,
      "outputs": [
        {
          "output_type": "stream",
          "name": "stdout",
          "text": [
            "1\n"
          ]
        }
      ]
    },
    {
      "cell_type": "code",
      "source": [
        "array1 = np.array([1,2,3,4,5,6,7,8,9])\n",
        "#standard deviation\n",
        "print(np.std(array1))\n",
        "# minimun\n",
        "print(np.min(array1))\n",
        "# median\n",
        "print(np.median(array1))\n",
        "# mean\n",
        "print(np.mean(array1))\n",
        "\n",
        "# variance\n",
        "print(np.var(array1))\n"
      ],
      "metadata": {
        "id": "bXYUelNka8Z4",
        "outputId": "b9f54151-0671-4ebc-9969-2163728159b1",
        "colab": {
          "base_uri": "https://localhost:8080/"
        }
      },
      "execution_count": null,
      "outputs": [
        {
          "output_type": "stream",
          "name": "stdout",
          "text": [
            "2.581988897471611\n",
            "1\n",
            "5.0\n",
            "5.0\n",
            "6.666666666666667\n"
          ]
        }
      ]
    },
    {
      "cell_type": "code",
      "source": [
        "import numpy as np\n",
        "array1 = np.array([1,2,3,4,5,6,7,0])\n",
        "print(np.count_nonzero(array1))\n",
        "print(np.nonzero(array1))\n",
        "print(array1.size)\n"
      ],
      "metadata": {
        "id": "fmwF1xDHc9j4",
        "outputId": "dd0a84ed-fd24-4456-aa38-bfc4fc3eb83c",
        "colab": {
          "base_uri": "https://localhost:8080/"
        }
      },
      "execution_count": null,
      "outputs": [
        {
          "output_type": "stream",
          "name": "stdout",
          "text": [
            "7\n",
            "(array([0, 1, 2, 3, 4, 5, 6]),)\n",
            "8\n"
          ]
        }
      ]
    },
    {
      "cell_type": "code",
      "source": [
        "import numpy as np\n",
        "a = np.array([1.0,2.0,3.0,4.0])\n",
        "b = np.array([2.0,2.0,2.0,2.0])\n",
        "a * b\n",
        "print(a*b)"
      ],
      "metadata": {
        "colab": {
          "base_uri": "https://localhost:8080/"
        },
        "id": "Qj7qir0RSRDP",
        "outputId": "2099e24b-3306-4a57-bb3f-e9ae874f562e"
      },
      "execution_count": null,
      "outputs": [
        {
          "output_type": "stream",
          "name": "stdout",
          "text": [
            "[2. 4. 6. 8.]\n"
          ]
        }
      ]
    },
    {
      "cell_type": "code",
      "source": [
        "import numpy as np\n",
        "a = np.array([1.0,2.0,3.0,4.0])\n",
        "b = 2.0\n",
        "a * b\n",
        "print(a*b)"
      ],
      "metadata": {
        "colab": {
          "base_uri": "https://localhost:8080/"
        },
        "id": "sdfBiZBoS7E5",
        "outputId": "47eb69e7-f6a2-44f7-9ef2-71a444a55ec6"
      },
      "execution_count": null,
      "outputs": [
        {
          "output_type": "stream",
          "name": "stdout",
          "text": [
            "[2. 4. 6. 8.]\n"
          ]
        }
      ]
    },
    {
      "cell_type": "code",
      "source": [
        "import numpy as np\n",
        "a = np.array([[0.0,1.0,3.0],[4.0,5.0,6.0],[7.0,8.0,9.0]])\n",
        "b = np.array([1.0,2.0,3.0])\n",
        "a + b\n",
        "print(a+b)"
      ],
      "metadata": {
        "colab": {
          "base_uri": "https://localhost:8080/"
        },
        "id": "rLsDVQEpTjju",
        "outputId": "e2f4232b-9df9-44d9-edd3-37b2838a8e1b"
      },
      "execution_count": null,
      "outputs": [
        {
          "output_type": "stream",
          "name": "stdout",
          "text": [
            "[[ 1.  3.  6.]\n",
            " [ 5.  7.  9.]\n",
            " [ 8. 10. 12.]]\n"
          ]
        }
      ]
    },
    {
      "cell_type": "code",
      "source": [
        "import numpy as np\n",
        "array3 = np.loadtxt('/content/salary.csv',delimiter=',',dtype=str,skiprows=1)\n",
        "print(array3)\n",
        "sal=[]\n",
        "exp=[]\n",
        "for i in array3:\n",
        "  sal.append(int(i[1]))\n",
        "  exp.append(int(i[2]))\n",
        "print(sal)\n",
        "print(exp)\n",
        "\n",
        "#converting list to array\n",
        "arr_sal = np.array(sal)\n",
        "arr_exp = np.array(exp)\n",
        "\n",
        "#displaying array\n",
        "print(\"Array1:\",arr_sal)\n",
        "print(\"Array2:\",arr_exp)\n",
        "\n",
        "#standard deviation salary\n",
        "print(np.std(sal))\n",
        "\n",
        "#standard deviation exp\n",
        "print(np.std(exp))\n",
        "\n",
        "#minimum salary\n",
        "print(np.min(sal))\n",
        "\n",
        "#minimum exp\n",
        "print(np.min(exp))\n",
        "\n",
        "#median salary\n",
        "print(np.median(sal))\n",
        "\n",
        "#median exp\n",
        "print(np.median(exp))\n",
        "\n",
        "#addition of salary and exp\n",
        "array1 = np.array(sal)\n",
        "array2 = np.array(exp)\n",
        "print(array1+array2)\n",
        "\n",
        "#multiplication of salary and exp\n",
        "array1 = np.array(sal)\n",
        "array2 = np.array(exp)\n",
        "print(array1*array2)\n"
      ],
      "metadata": {
        "colab": {
          "base_uri": "https://localhost:8080/"
        },
        "id": "PkSHK-DiUPX7",
        "outputId": "5cc2dd84-322e-49d7-aa7c-48c674fd5112"
      },
      "execution_count": null,
      "outputs": [
        {
          "output_type": "stream",
          "name": "stdout",
          "text": [
            "[['raj' '25000' '12']\n",
            " ['vijay' '20000' '8']\n",
            " ['kishor' '15000' '7']\n",
            " ['kiran' '18000' '8']\n",
            " ['sahil' '21000' '10']\n",
            " ['priyank' '30000' '5']\n",
            " ['ramesh' '28000' '6']]\n",
            "[25000, 20000, 15000, 18000, 21000, 30000, 28000]\n",
            "[12, 8, 7, 8, 10, 5, 6]\n",
            "Array1: [25000 20000 15000 18000 21000 30000 28000]\n",
            "Array2: [12  8  7  8 10  5  6]\n",
            "5038.626311013828\n",
            "2.2038926600773587\n",
            "15000\n",
            "5\n",
            "21000.0\n",
            "8.0\n",
            "[25012 20008 15007 18008 21010 30005 28006]\n",
            "[300000 160000 105000 144000 210000 150000 168000]\n"
          ]
        }
      ]
    }
  ],
  "metadata": {
    "colab": {
      "provenance": [],
      "include_colab_link": true
    },
    "kernelspec": {
      "display_name": "Python 3",
      "name": "python3"
    }
  },
  "nbformat": 4,
  "nbformat_minor": 0
}